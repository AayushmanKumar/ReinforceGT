{
  "nbformat": 4,
  "nbformat_minor": 0,
  "metadata": {
    "colab": {
      "provenance": []
    },
    "kernelspec": {
      "name": "python3",
      "display_name": "Python 3"
    },
    "language_info": {
      "name": "python"
    }
  },
  "cells": [
    {
      "cell_type": "code",
      "execution_count": 1,
      "metadata": {
        "colab": {
          "base_uri": "https://localhost:8080/"
        },
        "id": "QuTUN2-wrtQQ",
        "outputId": "9dc8d7d4-6161-48fe-c89c-4abd3bea30be"
      },
      "outputs": [
        {
          "output_type": "stream",
          "name": "stdout",
          "text": [
            "Pure Nash Equilibria: [('D', 'D')]\n"
          ]
        }
      ],
      "source": [
        "# Nash equilibrium checker\n",
        "def is_pure_nash_equilibrium(strategy_profile, payoff_matrix):\n",
        "    actions = ['C', 'D']\n",
        "    p1_action, p2_action = strategy_profile\n",
        "    p1_payoff, p2_payoff = payoff_matrix[(p1_action, p2_action)]\n",
        "\n",
        "    # Check if Player 1 can do better by switching\n",
        "    for alt_p1 in actions:\n",
        "        if alt_p1 != p1_action:\n",
        "            alt_p1_payoff = payoff_matrix[(alt_p1, p2_action)][0]\n",
        "            if alt_p1_payoff > p1_payoff:\n",
        "                return False\n",
        "\n",
        "    # Check if Player 2 can do better by switching\n",
        "    for alt_p2 in actions:\n",
        "        if alt_p2 != p2_action:\n",
        "            alt_p2_payoff = payoff_matrix[(p1_action, alt_p2)][1]\n",
        "            if alt_p2_payoff > p2_payoff:\n",
        "                return False\n",
        "\n",
        "    return True\n",
        "\n",
        "# Prisoner's Dilemma Payoff Matrix\n",
        "payoff_matrix = {\n",
        "    ('C', 'C'): (3, 3),\n",
        "    ('C', 'D'): (0, 5),\n",
        "    ('D', 'C'): (5, 0),\n",
        "    ('D', 'D'): (1, 1)\n",
        "}\n",
        "\n",
        "# Find all pure Nash equilibria\n",
        "actions = ['C', 'D']\n",
        "nash_equilibria = []\n",
        "for a1 in actions:\n",
        "    for a2 in actions:\n",
        "        if is_pure_nash_equilibrium((a1, a2), payoff_matrix):\n",
        "            nash_equilibria.append((a1, a2))\n",
        "\n",
        "print(\"Pure Nash Equilibria:\", nash_equilibria)\n"
      ]
    },
    {
      "cell_type": "code",
      "source": [
        "# Best Response Calculator\n",
        "def best_response(payoff_matrix, player, opponent_action):\n",
        "    actions = ['Bach', 'Stravinsky']\n",
        "    best_responses = set()\n",
        "    best_payoff = float('-inf')\n",
        "\n",
        "    for action in actions:\n",
        "        if player == 1:\n",
        "            payoff = payoff_matrix[(action, opponent_action)][0]\n",
        "        else:\n",
        "            payoff = payoff_matrix[(opponent_action, action)][1]\n",
        "\n",
        "        if payoff > best_payoff:\n",
        "            best_responses = {action}\n",
        "            best_payoff = payoff\n",
        "        elif payoff == best_payoff:\n",
        "            best_responses.add(action)\n",
        "\n",
        "    return best_responses\n",
        "\n",
        "# Battle of the Sexes Payoff Matrix\n",
        "bos_payoff_matrix = {\n",
        "    ('Bach', 'Bach'): (2, 1),\n",
        "    ('Bach', 'Stravinsky'): (0, 0),\n",
        "    ('Stravinsky', 'Bach'): (0, 0),\n",
        "    ('Stravinsky', 'Stravinsky'): (1, 2)\n",
        "}\n",
        "\n",
        "# Example usage:\n",
        "print(\"Best response for Player 1 when Player 2 plays 'Bach':\", best_response(bos_payoff_matrix, 1, 'Bach'))\n"
      ],
      "metadata": {
        "colab": {
          "base_uri": "https://localhost:8080/"
        },
        "id": "JVvg7zijsveg",
        "outputId": "f79d4a95-c17d-452a-ec8b-b9b2cbc210da"
      },
      "execution_count": 2,
      "outputs": [
        {
          "output_type": "stream",
          "name": "stdout",
          "text": [
            "Best response for Player 1 when Player 2 plays 'Bach': {'Bach'}\n"
          ]
        }
      ]
    }
  ]
}