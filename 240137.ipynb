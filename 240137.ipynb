{
  "nbformat": 4,
  "nbformat_minor": 0,
  "metadata": {
    "colab": {
      "provenance": []
    },
    "kernelspec": {
      "name": "python3",
      "display_name": "Python 3"
    },
    "language_info": {
      "name": "python"
    }
  },
  "cells": [
    {
      "cell_type": "code",
      "execution_count": 3,
      "metadata": {
        "colab": {
          "base_uri": "https://localhost:8080/"
        },
        "id": "P6cFkVfGRADs",
        "outputId": "adba8e05-33a9-40bb-850a-3fd594483829"
      },
      "outputs": [
        {
          "output_type": "stream",
          "name": "stdout",
          "text": [
            "Pure Nash Equilibria:\n",
            "Strategy: (D, D)\n"
          ]
        }
      ],
      "source": [
        "# Possible strategies for the two players\n",
        "strategies = ['C', 'D']  # Cooperate or Defect\n",
        "\n",
        "# Payoff matrix: (Player 1 payoff, Player 2 payoff)\n",
        "payoff_matrix = {\n",
        "    ('C', 'C'): (3, 3),\n",
        "    ('C', 'D'): (0, 5),\n",
        "    ('D', 'C'): (5, 0),\n",
        "    ('D', 'D'): (1, 1)\n",
        "}\n",
        "\n",
        "def is_nash_equilibrium(profile):\n",
        "    #check for whether the given strategy combo is a pure Nash equilibrium.\n",
        "    s1, s2 = profile\n",
        "    current_p1, current_p2 = payoff_matrix[(s1, s2)]\n",
        "\n",
        "    # See if player 1 could do better by changing their move\n",
        "    for alt_st in strategies:\n",
        "        if alt_st == s1:\n",
        "            continue\n",
        "        alt_p1 = payoff_matrix[(alt_st, s2)][0]\n",
        "        if alt_p1 > current_p1:\n",
        "            return False  # Player 1 would want to switch\n",
        "\n",
        "    # Same idea for player 2\n",
        "    for alt_st in strategies:\n",
        "        if alt_st == s2:\n",
        "            continue\n",
        "        alt_p2 = payoff_matrix[(s1, alt_st)][1]\n",
        "        if alt_p2 > current_p2:\n",
        "            return False  # Player 2 would want to switch\n",
        "\n",
        "    # If neither player wants to change, it's a Nash equilibrium\n",
        "    return True\n",
        "\n",
        "# Loop through all combinations to see which are Nash equilibria\n",
        "print(\"Pure Nash Equilibria:\")\n",
        "for s1 in strategies:\n",
        "    for s2 in strategies:\n",
        "        if is_nash_equilibrium((s1, s2)):\n",
        "            print(f\"Strategy: ({s1}, {s2})\")\n"
      ]
    },
    {
      "cell_type": "code",
      "source": [
        "def get_best_response(matrix, p, opp_move):\n",
        "    responses = set()\n",
        "    max_val = -99999  # arbitrary low value\n",
        "\n",
        "    for move in matrix:\n",
        "        if opp_move in matrix[move]:\n",
        "            val = matrix[move][opp_move][p - 1]\n",
        "            if val > max_val:\n",
        "                max_val = val\n",
        "                responses = {move}\n",
        "            elif val == max_val:\n",
        "                responses.add(move)\n",
        "\n",
        "    return responses\n",
        "payoff_matrix = {\n",
        "    'Bach': {\n",
        "        'Bach': (2, 1),\n",
        "        'Stravinsky': (0, 0)\n",
        "    },\n",
        "    'Stravinsky': {\n",
        "        'Bach': (0, 0),\n",
        "        'Stravinsky': (1, 2)\n",
        "    }\n",
        "}\n",
        "\n",
        "print(get_best_response(payoff_matrix, 1, 'Bach'))\n",
        "print(get_best_response(payoff_matrix, 2, 'Stravinsky'))\n"
      ],
      "metadata": {
        "colab": {
          "base_uri": "https://localhost:8080/"
        },
        "id": "1mTmfw5XRaOO",
        "outputId": "c58baa57-5449-4ab1-ae96-744f3ef4b8ff"
      },
      "execution_count": 2,
      "outputs": [
        {
          "output_type": "stream",
          "name": "stdout",
          "text": [
            "{'Bach'}\n",
            "{'Stravinsky'}\n"
          ]
        }
      ]
    },
    {
      "cell_type": "code",
      "source": [],
      "metadata": {
        "id": "CBEE7VfqW8jf"
      },
      "execution_count": null,
      "outputs": []
    }
  ]
}